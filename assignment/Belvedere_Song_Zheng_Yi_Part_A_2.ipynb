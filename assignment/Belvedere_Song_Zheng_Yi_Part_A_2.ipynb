{
 "cells": [
  {
   "cell_type": "markdown",
   "metadata": {},
   "source": [
    "# Question A2 (10 marks)"
   ]
  },
  {
   "cell_type": "markdown",
   "metadata": {},
   "source": [
    "### In this question, we will determine the optimal batch size for mini-batch gradient descent. Find the optimal batch size for mini-batch gradient descent by training the neural network and evaluating the performances for different batch sizes. Note: Use 5-fold cross-validation on the training partition to perform hyperparameter selection. You will have to reconsider the scaling of the dataset during the 5-fold cross validation."
   ]
  },
  {
   "cell_type": "markdown",
   "metadata": {},
   "source": [
    "#### Plot mean cross-validation accuracies on the final epoch for different batch sizes as a scatter plot. Limit search space to batch sizes {64, 128, 256, 512}. Next, create a table of time taken to train the network on the last epoch against different batch sizes. Finally, select the optimal batch size and state a reason for your selection.\n",
    "\n",
    "\n",
    "This might take a while to run, so plan your time carefully."
   ]
  },
  {
   "cell_type": "code",
   "execution_count": 5,
   "metadata": {},
   "outputs": [],
   "source": [
    "import tqdm\n",
    "import time\n",
    "import random\n",
    "import numpy as np\n",
    "import pandas as pd\n",
    "import matplotlib.pyplot as plt\n",
    "\n",
    "import torch\n",
    "from torch import nn\n",
    "from torch.utils.data import Dataset\n",
    "from torch.utils.data import DataLoader\n",
    "\n",
    "from scipy.io import wavfile as wav\n",
    "\n",
    "from sklearn import preprocessing\n",
    "from sklearn.model_selection import KFold\n",
    "from sklearn.model_selection import train_test_split\n",
    "from sklearn.metrics import f1_score, precision_score, recall_score, confusion_matrix\n",
    "\n",
    "from common_utils import set_seed\n",
    "\n",
    "# setting seed\n",
    "set_seed()"
   ]
  },
  {
   "cell_type": "markdown",
   "metadata": {},
   "source": [
    "1.To reduce repeated code, place your\n",
    "\n",
    "- network (MLP defined in QA1)\n",
    "\n",
    "- torch datasets (CustomDataset defined in QA1)\n",
    "- loss function (loss_fn defined in QA1)\n",
    "in a separate file called common_utils.py\n",
    "\n",
    "Import them into this file. You will not be repenalised for any error in QA1 here as the code in QA1 will not be remarked.\n",
    "\n",
    "The following code cell will not be marked."
   ]
  },
  {
   "cell_type": "code",
   "execution_count": 132,
   "metadata": {},
   "outputs": [],
   "source": [
    "from common_utils import MLP, CustomDataset, preprocess_dataset, EarlyStopper, preprocess\n",
    "\n",
    "\n",
    "# Binary Cross Entropy Loss for binary classification\n",
    "loss_fn = nn.BCELoss()\n",
    "\n",
    "# Read the dataset\n",
    "df = pd.read_csv('simplified.csv')\n",
    "\n",
    "# Create the label from the filename since filename contains the label\n",
    "df['label'] = df['filename'].str.split('_').str[-2]\n",
    "\n",
    "# From the dataset given, we will drop filename and label since filename doesn't provide any detail and label is the prediction task\n",
    "col_drop = [\"filename\", \"label\"]\n",
    "\n",
    "# Preprocess the dataset (split and scale)\n",
    "X_train_scaled, y_train, X_test_scaled, y_test = preprocess(df, col_drop= col_drop)"
   ]
  },
  {
   "cell_type": "code",
   "execution_count": 133,
   "metadata": {},
   "outputs": [
    {
     "data": {
      "text/plain": [
       "(9645, 77)"
      ]
     },
     "execution_count": 133,
     "metadata": {},
     "output_type": "execute_result"
    }
   ],
   "source": [
    "X_train_scaled.shape"
   ]
  },
  {
   "cell_type": "code",
   "execution_count": 134,
   "metadata": {},
   "outputs": [
    {
     "data": {
      "text/plain": [
       "(2412, 77)"
      ]
     },
     "execution_count": 134,
     "metadata": {},
     "output_type": "execute_result"
    }
   ],
   "source": [
    "X_test_scaled.shape"
   ]
  },
  {
   "cell_type": "code",
   "execution_count": 135,
   "metadata": {},
   "outputs": [
    {
     "data": {
      "text/plain": [
       "(12057, 79)"
      ]
     },
     "execution_count": 135,
     "metadata": {},
     "output_type": "execute_result"
    }
   ],
   "source": [
    "df.shape"
   ]
  },
  {
   "cell_type": "markdown",
   "metadata": {},
   "source": [
    "2.Define different folds for different batch sizes to get a dictionary of training and validation datasets. Preprocess your datasets accordingly."
   ]
  },
  {
   "cell_type": "code",
   "execution_count": 136,
   "metadata": {},
   "outputs": [],
   "source": [
    "def generate_cv_folds_for_batch_sizes(batch_sizes, X_train_scaled, y_train, num_folds=5):\n",
    "    \"\"\"\n",
    "    Generates cross-validation folds for different batch sizes using already scaled data.\n",
    "\n",
    "    Args:\n",
    "        batch_sizes (list): List of batch sizes (e.g., [64, 128, 256, 512]).\n",
    "        X_train_scaled (ndarray): Scaled input features for training data.\n",
    "        y_train (ndarray): Labels for training data.\n",
    "        num_folds (int): Number of cross-validation folds (default is 5).\n",
    "\n",
    "    Returns:\n",
    "        X_train_scaled_dict (dict): Dictionary where each key is a batch size and the value is a list of preprocessed training data for each fold.\n",
    "        X_val_scaled_dict (dict): Dictionary where each key is a batch size and the value is a list of preprocessed validation data for each fold.\n",
    "        y_train_dict (dict): Dictionary where each key is a batch size and the value is a list of labels for the training folds.\n",
    "        y_val_dict (dict): Dictionary where each key is a batch size and the value is a list of labels for the validation folds.\n",
    "    \"\"\"\n",
    "\n",
    "    # Initialize dictionaries to store the results\n",
    "    X_train_scaled_dict = {batch_size: [] for batch_size in batch_sizes}\n",
    "    X_val_scaled_dict = {batch_size: [] for batch_size in batch_sizes}\n",
    "    y_train_dict = {batch_size: [] for batch_size in batch_sizes}\n",
    "    y_val_dict = {batch_size: [] for batch_size in batch_sizes}\n",
    "\n",
    "    \"\"\"\n",
    "    example of how X_train_scaled_dict will look like\n",
    "    X_train_scaled_dict = {\n",
    "        64: [],    # List for training data using batch size 64\n",
    "        128: [],   # List for training data using batch size 128\n",
    "        256: [],   # List for training data using batch size 256\n",
    "        512: []    # List for training data using batch size 512\n",
    "    }\n",
    "\n",
    "    \"\"\"\n",
    "\n",
    "    # Perform K-Fold Cross Validation\n",
    "    kf = KFold(n_splits=num_folds, shuffle=True, random_state=1)\n",
    "\n",
    "    \"\"\"\n",
    "    kf.split(X_train_scaled) uses the KFold object (kf) to split the scaled training data (X_train_scaled) into multiple folds (in this case, 5 folds). For each fold:\n",
    "        train_idx: The indices of the training samples for that fold.\n",
    "        val_idx: The indices of the validation samples for that fold.\n",
    "    \"\"\"\n",
    "\n",
    "    # Splits the training data into training and validation sets for each fold, storing the preprocessed data and labels in dictionaries.\n",
    "    \n",
    "    # Iterate through each batch size \n",
    "    for batch_size in batch_sizes:\n",
    "\n",
    "        # For each fold, we will store the preprocessed train and validation sets\n",
    "        for train_idx, val_idx in kf.split(X_train_scaled):\n",
    "            \n",
    "            # Split the dataset into training and validation for the current fold\n",
    "            X_train_fold, X_val_fold = X_train_scaled[train_idx], X_train_scaled[val_idx]\n",
    "            y_train_fold, y_val_fold = y_train[train_idx], y_train[val_idx]\n",
    "\n",
    "            # Append the scaled data and corresponding labels to the dictionaries\n",
    "            X_train_scaled_dict[batch_size].append(X_train_fold)\n",
    "            X_val_scaled_dict[batch_size].append(X_val_fold)\n",
    "            y_train_dict[batch_size].append(y_train_fold)\n",
    "            y_val_dict[batch_size].append(y_val_fold)\n",
    "\n",
    "    return X_train_scaled_dict, X_val_scaled_dict, y_train_dict, y_val_dict\n",
    "\n",
    "batch_sizes = [64, 128, 256, 512]\n",
    "X_train_scaled_dict, X_val_scaled_dict, y_train_dict, y_val_dict = generate_cv_folds_for_batch_sizes(batch_sizes, X_train_scaled, y_train)"
   ]
  },
  {
   "cell_type": "code",
   "execution_count": 137,
   "metadata": {},
   "outputs": [
    {
     "name": "stdout",
     "output_type": "stream",
     "text": [
      "X_train_scaled_dict\n",
      "64\n",
      "Input Feature shape [(7716, 77), (7716, 77), (7716, 77), (7716, 77), (7716, 77)]\n",
      "128\n",
      "Input Feature shape [(7716, 77), (7716, 77), (7716, 77), (7716, 77), (7716, 77)]\n",
      "256\n",
      "Input Feature shape [(7716, 77), (7716, 77), (7716, 77), (7716, 77), (7716, 77)]\n",
      "512\n",
      "Input Feature shape [(7716, 77), (7716, 77), (7716, 77), (7716, 77), (7716, 77)]\n"
     ]
    }
   ],
   "source": [
    "# Checking the results \n",
    "print(\"X_train_scaled_dict\")\n",
    "for batch_size, fold_vector in X_train_scaled_dict.items():\n",
    "    print(batch_size)\n",
    "    print(\"Input Feature shape\", [fold.shape for fold in fold_vector])"
   ]
  },
  {
   "cell_type": "code",
   "execution_count": 138,
   "metadata": {},
   "outputs": [
    {
     "name": "stdout",
     "output_type": "stream",
     "text": [
      "X_val_scaled_dict\n",
      "64\n",
      "Input Feature shape [(1929, 77), (1929, 77), (1929, 77), (1929, 77), (1929, 77)]\n",
      "128\n",
      "Input Feature shape [(1929, 77), (1929, 77), (1929, 77), (1929, 77), (1929, 77)]\n",
      "256\n",
      "Input Feature shape [(1929, 77), (1929, 77), (1929, 77), (1929, 77), (1929, 77)]\n",
      "512\n",
      "Input Feature shape [(1929, 77), (1929, 77), (1929, 77), (1929, 77), (1929, 77)]\n"
     ]
    }
   ],
   "source": [
    "print(\"X_val_scaled_dict\")\n",
    "for batch_size, fold_vector in X_val_scaled_dict.items():\n",
    "    print(batch_size)\n",
    "    print(\"Input Feature shape\", [fold.shape for fold in fold_vector])"
   ]
  },
  {
   "cell_type": "markdown",
   "metadata": {},
   "source": [
    "From the above printing suites, \n",
    "\n",
    "we can see that we help split the validation and training set to a ratio of 1:4\n",
    "\n",
    "------------ "
   ]
  },
  {
   "cell_type": "markdown",
   "metadata": {},
   "source": [
    "3.Perform hyperparameter tuning for the different batch sizes with 5-fold cross validation."
   ]
  },
  {
   "cell_type": "code",
   "execution_count": 139,
   "metadata": {},
   "outputs": [],
   "source": [
    "# Initialize the DataLoaders\n",
    "def intialise_dataloader(X_train_scaled_fold, y_train_fold, X_val_scaled_fold, y_val__fold, batch_size):\n",
    "    \"\"\"\n",
    "    Args:\n",
    "        X_train_scaled_fold (ndarray): Scaled input features for training for a fold.\n",
    "        y_train_fold (ndarray): Training labels for a fold.\n",
    "        X_val_scaled_fold (ndarray): Scaled input features for testing for a fold.\n",
    "        y_val__fold (ndarray): Test labels for a fold.\n",
    "        batch_size (int): Batch size for loading the data.\n",
    "\n",
    "    Returns:\n",
    "        train_dataloader (DataLoader): Dataloader for the training set.\n",
    "        validation_dataloader (DataLoader): Dataloader for the validation set.\n",
    "    \"\"\"\n",
    "    # Create instances of the CustomDataset for training and testing\n",
    "    train_dataset = CustomDataset(X_train_scaled_fold, y_train_fold)\n",
    "    val_dataset = CustomDataset(X_val_scaled_fold, y_val__fold)\n",
    "\n",
    "    # Create DataLoaders for training and testing\n",
    "    train_dataloader = DataLoader(train_dataset, batch_size=batch_size, shuffle=True)\n",
    "    validation_dataloader = DataLoader(val_dataset, batch_size=batch_size, shuffle=False)\n",
    "\n",
    "    return train_dataloader, validation_dataloader\n",
    "\n",
    "def training_loop(dataloader, model, loss_fn, optimizer):\n",
    "    size = len(dataloader.dataset)\n",
    "\n",
    "    train_loss, correct_predictions = 0, 0  # Track the number of correct predictions\n",
    "    total_samples = 0  # Track the total number of samples processed\n",
    "\n",
    "    for _, (x, y) in enumerate(dataloader):\n",
    "        # forward pass \n",
    "        pred = model(x)\n",
    "\n",
    "        # Reshape the target labels to match the shape of the predictions\n",
    "        y = y.unsqueeze(1).float()\n",
    "\n",
    "        # Calculate the loss\n",
    "        loss = loss_fn(pred, y)\n",
    "        optimizer.zero_grad()\n",
    "\n",
    "        # Backpropagation and optimization step\n",
    "        loss.backward()\n",
    "        optimizer.step()\n",
    "\n",
    "        train_loss += loss.item()\n",
    "\n",
    "        # Convert the predicted probabilities into binary predictions (0 or 1)\n",
    "        predicted_labels = (pred > 0.5).float()\n",
    "\n",
    "        # Calculate the number of correct predictions\n",
    "        correct_predictions += (predicted_labels == y).type(torch.float).sum().item()\n",
    "        total_samples += y.size(0)  # Keep track of the number of samples\n",
    "\n",
    "    # Average the loss over the number of batches\n",
    "    train_loss /= len(dataloader)\n",
    "    \n",
    "    # Calculate accuracy by dividing correct predictions by the total number of samples\n",
    "    accuracy = correct_predictions / total_samples\n",
    "\n",
    "    return train_loss, accuracy\n",
    "\n",
    "\n",
    "def validation_loop(dataloader, model, loss_fn):\n",
    "    size = len(dataloader.dataset)\n",
    "\n",
    "    val_loss, correct_predictions = 0, 0  # Track correct predictions and total samples\n",
    "    total_samples = 0\n",
    "\n",
    "    with torch.no_grad():\n",
    "        for x, y in dataloader:\n",
    "            pred = model(x)\n",
    "\n",
    "            # Reshape the target labels to match the shape of the predictions\n",
    "            y = y.unsqueeze(1).float()\n",
    "\n",
    "            # Calculate the validation loss\n",
    "            val_loss += loss_fn(pred, y).item()\n",
    "\n",
    "            # Convert the predicted probabilities into binary predictions (0 or 1)\n",
    "            predicted_labels = (pred > 0.5).float()\n",
    "\n",
    "            # Calculate the number of correct predictions\n",
    "            correct_predictions += (predicted_labels == y).type(torch.float).sum().item()\n",
    "            total_samples += y.size(0)  # Track the number of samples\n",
    "\n",
    "    # Average the loss over the number of batches\n",
    "    val_loss /= len(dataloader)\n",
    "\n",
    "    # Calculate accuracy by dividing correct predictions by the total number of samples\n",
    "    accuracy = correct_predictions / total_samples\n",
    "\n",
    "    return val_loss, accuracy\n"
   ]
  },
  {
   "cell_type": "code",
   "execution_count": 140,
   "metadata": {},
   "outputs": [],
   "source": [
    "no_features = X_train_scaled_dict[64][0].shape[1] # Access the first batch_size , then its first fold and thus the shape \n",
    "no_hidden = 128\n",
    "no_labels = 1\n",
    "lr = 0.001\n",
    "epochs = 100"
   ]
  },
  {
   "cell_type": "code",
   "execution_count": 141,
   "metadata": {},
   "outputs": [],
   "source": [
    "def find_optimal_hyperparameter(X_train_scaled_dict, X_val_scaled_dict, y_train_dict, y_val_dict, batch_sizes):\n",
    "    \n",
    "    # Folds accuracy and time \n",
    "    cv_acc = []\n",
    "    cv_time = []\n",
    "    \n",
    "    # For each Batch size \n",
    "    for batch in range(len(batch_sizes)):\n",
    "        print(\"===========================\")\n",
    "        print(\"Current Batch_size:\", batch_sizes[batch])\n",
    "        print(\"===========================\")\n",
    "\n",
    "        # Logging purposes - Encapsulates the train + val accuracy and time for all the folds it contains \n",
    "        cv_acc_per_fold = []\n",
    "        cv_time_per_fold = []\n",
    "\n",
    "        # For Each Fold \n",
    "        for fold in range(5): # Fold index\n",
    "            print(\"----------------------\")\n",
    "            print(\"Current Fold:\", fold)\n",
    "\n",
    "            # Take the data that is needed for that fold \n",
    "            x_train = X_train_scaled_dict[batch_sizes[batch]][fold]\n",
    "            x_val   = X_val_scaled_dict[batch_sizes[batch]][fold]\n",
    "            y_train = y_train_dict[batch_sizes[batch]][fold]\n",
    "            y_val   = y_val_dict[batch_sizes[batch]][fold]\n",
    "\n",
    "            # For Batching Purposes \n",
    "            train_dataloader, val_dataloader = intialise_dataloader(x_train, y_train, x_val, y_val, batch_sizes[batch])\n",
    "\n",
    "            # Init Model and helper functions \n",
    "            model = MLP(no_features, no_hidden, no_labels)\n",
    "            optimizer = torch.optim.Adam(model.parameters(), lr=lr)\n",
    "            early_stopper = EarlyStopper(patience=3, min_delta=0.00005)\n",
    "\n",
    "            # Logging purposes for individual folds \n",
    "            train_loss, val_loss = [], []\n",
    "            train_acc_per_fold, val_acc_per_fold = [], []\n",
    "            train_time_taken_per_fold = []\n",
    "\n",
    "            for epoch in range(epochs): # Runs through the whole dataset \n",
    "                start = time.time()\n",
    "\n",
    "                # Training\n",
    "                train_loss_, train_acc_ = training_loop(train_dataloader, model, loss_fn, optimizer)\n",
    "                val_loss_, val_acc_ = validation_loop(val_dataloader, model, loss_fn)\n",
    "\n",
    "                # Store results for each fold for each batch \n",
    "                train_loss.append(train_loss_), val_loss.append(val_loss_)\n",
    "                train_acc_per_fold.append(train_acc_), val_acc_per_fold.append(val_acc_)\n",
    "\n",
    "                # Track time per epoch \n",
    "                train_time_ = time.time() - start\n",
    "                train_time_taken_per_fold.append(train_time_)\n",
    "\n",
    "                if early_stopper.early_stop(val_loss_):\n",
    "                    print(\"Early Stopping at epoch\", epoch)\n",
    "                    break\n",
    "\n",
    "            # Get the last epoch results for the current fold \n",
    "            cv_acc_per_fold.append(val_acc_per_fold[-1])\n",
    "            cv_time_per_fold.append(train_time_taken_per_fold[-1])\n",
    "\n",
    "            print(\"Last Epoch Validation Accuracy:\", cv_acc_per_fold[-1])\n",
    "            print(\"Last Epoch Time taken:\", cv_time_per_fold[-1])\n",
    "\n",
    "        cv_acc.append(np.mean(cv_acc_per_fold))\n",
    "        cv_time.append(cv_time_per_fold)\n",
    "\n",
    "    return cv_acc, cv_time"
   ]
  },
  {
   "cell_type": "code",
   "execution_count": 145,
   "metadata": {},
   "outputs": [
    {
     "name": "stdout",
     "output_type": "stream",
     "text": [
      "===========================\n",
      "Current Batch_size: 64\n",
      "===========================\n",
      "----------------------\n",
      "Current Fold: 0\n",
      "Early Stopping at epoch 16\n",
      "Last Epoch Validation Accuracy: 0.6837739761534474\n",
      "Last Epoch Time taken: 0.22099804878234863\n",
      "----------------------\n",
      "Current Fold: 1\n",
      "Early Stopping at epoch 16\n",
      "Last Epoch Validation Accuracy: 0.7102125453602903\n",
      "Last Epoch Time taken: 0.22600007057189941\n",
      "----------------------\n",
      "Current Fold: 2\n",
      "Early Stopping at epoch 14\n",
      "Last Epoch Validation Accuracy: 0.7024364955935718\n",
      "Last Epoch Time taken: 0.20999884605407715\n",
      "----------------------\n",
      "Current Fold: 3\n",
      "Early Stopping at epoch 8\n",
      "Last Epoch Validation Accuracy: 0.665111456713323\n",
      "Last Epoch Time taken: 0.21699953079223633\n",
      "----------------------\n",
      "Current Fold: 4\n",
      "Early Stopping at epoch 16\n",
      "Last Epoch Validation Accuracy: 0.6931052358735096\n",
      "Last Epoch Time taken: 0.22300100326538086\n",
      "===========================\n",
      "Current Batch_size: 128\n",
      "===========================\n",
      "----------------------\n",
      "Current Fold: 0\n",
      "Early Stopping at epoch 10\n",
      "Last Epoch Validation Accuracy: 0.6682218766200103\n",
      "Last Epoch Time taken: 0.14100050926208496\n",
      "----------------------\n",
      "Current Fold: 1\n",
      "Early Stopping at epoch 14\n",
      "Last Epoch Validation Accuracy: 0.6817003628823225\n",
      "Last Epoch Time taken: 0.14000296592712402\n",
      "----------------------\n",
      "Current Fold: 2\n",
      "Early Stopping at epoch 16\n",
      "Last Epoch Validation Accuracy: 0.6858475894245724\n",
      "Last Epoch Time taken: 0.14799952507019043\n",
      "----------------------\n",
      "Current Fold: 3\n",
      "Early Stopping at epoch 11\n",
      "Last Epoch Validation Accuracy: 0.6614826334888543\n",
      "Last Epoch Time taken: 0.13751530647277832\n",
      "----------------------\n",
      "Current Fold: 4\n",
      "Early Stopping at epoch 11\n",
      "Last Epoch Validation Accuracy: 0.6723691031622603\n",
      "Last Epoch Time taken: 0.14799833297729492\n",
      "===========================\n",
      "Current Batch_size: 256\n",
      "===========================\n",
      "----------------------\n",
      "Current Fold: 0\n",
      "Early Stopping at epoch 17\n",
      "Last Epoch Validation Accuracy: 0.6620010368066356\n",
      "Last Epoch Time taken: 0.1120004653930664\n",
      "----------------------\n",
      "Current Fold: 1\n",
      "Early Stopping at epoch 9\n",
      "Last Epoch Validation Accuracy: 0.6433385173665112\n",
      "Last Epoch Time taken: 0.11199569702148438\n",
      "----------------------\n",
      "Current Fold: 2\n",
      "Early Stopping at epoch 20\n",
      "Last Epoch Validation Accuracy: 0.6925868325557284\n",
      "Last Epoch Time taken: 0.10800027847290039\n",
      "----------------------\n",
      "Current Fold: 3\n",
      "Early Stopping at epoch 21\n",
      "Last Epoch Validation Accuracy: 0.6744427164333852\n",
      "Last Epoch Time taken: 0.1049957275390625\n",
      "----------------------\n",
      "Current Fold: 4\n",
      "Early Stopping at epoch 20\n",
      "Last Epoch Validation Accuracy: 0.696215655780197\n",
      "Last Epoch Time taken: 0.0970008373260498\n",
      "===========================\n",
      "Current Batch_size: 512\n",
      "===========================\n",
      "----------------------\n",
      "Current Fold: 0\n",
      "Early Stopping at epoch 17\n",
      "Last Epoch Validation Accuracy: 0.6480041472265422\n",
      "Last Epoch Time taken: 0.0919947624206543\n",
      "----------------------\n",
      "Current Fold: 1\n",
      "Early Stopping at epoch 24\n",
      "Last Epoch Validation Accuracy: 0.6817003628823225\n",
      "Last Epoch Time taken: 0.08199858665466309\n",
      "----------------------\n",
      "Current Fold: 2\n",
      "Early Stopping at epoch 15\n",
      "Last Epoch Validation Accuracy: 0.6464489372731985\n",
      "Last Epoch Time taken: 0.08551025390625\n",
      "----------------------\n",
      "Current Fold: 3\n",
      "Early Stopping at epoch 23\n",
      "Last Epoch Validation Accuracy: 0.6500777604976672\n",
      "Last Epoch Time taken: 0.08455371856689453\n",
      "----------------------\n",
      "Current Fold: 4\n",
      "Early Stopping at epoch 17\n",
      "Last Epoch Validation Accuracy: 0.64282011404873\n",
      "Last Epoch Time taken: 0.08899998664855957\n"
     ]
    }
   ],
   "source": [
    "cross_validation_accuracies, cross_validation_times = find_optimal_hyperparameter(X_train_scaled_dict, X_val_scaled_dict, y_train_dict, y_val_dict, batch_sizes)"
   ]
  },
  {
   "cell_type": "code",
   "execution_count": 146,
   "metadata": {},
   "outputs": [
    {
     "name": "stdout",
     "output_type": "stream",
     "text": [
      "CV_acc:[np.float64(0.6909279419388284), np.float64(0.6739243131156039), np.float64(0.6737169517884914), np.float64(0.6538102643856921)]\n",
      "CV Time taken:[[0.22099804878234863, 0.22600007057189941, 0.20999884605407715, 0.21699953079223633, 0.22300100326538086], [0.14100050926208496, 0.14000296592712402, 0.14799952507019043, 0.13751530647277832, 0.14799833297729492], [0.1120004653930664, 0.11199569702148438, 0.10800027847290039, 0.1049957275390625, 0.0970008373260498], [0.0919947624206543, 0.08199858665466309, 0.08551025390625, 0.08455371856689453, 0.08899998664855957]]\n"
     ]
    }
   ],
   "source": [
    "print(f\"CV_acc:{cross_validation_accuracies}\")\n",
    "print(f\"CV Time taken:{cross_validation_times}\")"
   ]
  },
  {
   "cell_type": "markdown",
   "metadata": {},
   "source": [
    "4.Plot scatterplot of mean cross validation accuracies for the different batch sizes."
   ]
  },
  {
   "cell_type": "code",
   "execution_count": 147,
   "metadata": {},
   "outputs": [
    {
     "data": {
      "image/png": "[encoded data removed]",
      "text/plain": [
       "<Figure size 640x480 with 1 Axes>"
      ]
     },
     "metadata": {},
     "output_type": "display_data"
    },
    {
     "data": {
      "image/png": "[encoded data removed]",
      "text/plain": [
       "<Figure size 640x480 with 1 Axes>"
      ]
     },
     "metadata": {},
     "output_type": "display_data"
    }
   ],
   "source": [
    "def scatterplot_accuracy(total_accuracy, batch_sizes):\n",
    "    \"\"\"Accuracy\"\"\"\n",
    "    fig = plt.figure()\n",
    "    plt.plot(batch_sizes, total_accuracy, marker='x', linestyle='None')\n",
    "    plt.xticks(batch_sizes)\n",
    "    plt.xlabel('Batch Sizes')\n",
    "    plt.ylabel('Mean Cross Validation Accuracy')\n",
    "    plt.title(\"Cross Validation Accuracy vs Batch Size\")\n",
    "    plt.show()\n",
    "\n",
    "def scatterplot_time(total_time, batch_sizes):\n",
    "    \"\"\"Time\"\"\"\n",
    "    fig = plt.figure()\n",
    "    plt.plot(batch_sizes, total_time, marker='x', linestyle='None')\n",
    "    plt.xticks(batch_sizes)\n",
    "    plt.xlabel('Batch Sizes')\n",
    "    plt.ylabel('Time Taken per fold per Epoch')\n",
    "    plt.title(\"Time taken vs Batch Size\")\n",
    "    plt.show()\n",
    "\n",
    "scatterplot_accuracy(cross_validation_accuracies, batch_sizes)\n",
    "scatterplot_time(cross_validation_times, batch_sizes)"
   ]
  },
  {
   "cell_type": "markdown",
   "metadata": {},
   "source": [
    "4.Create a table of time taken to train the network on the last epoch against different batch sizes. Select the optimal batch size and state a reason for your selection."
   ]
  },
  {
   "cell_type": "code",
   "execution_count": 148,
   "metadata": {},
   "outputs": [
    {
     "data": {
      "text/html": [
       "<div>\n",
       "<style scoped>\n",
       "    .dataframe tbody tr th:only-of-type {\n",
       "        vertical-align: middle;\n",
       "    }\n",
       "\n",
       "    .dataframe tbody tr th {\n",
       "        vertical-align: top;\n",
       "    }\n",
       "\n",
       "    .dataframe thead th {\n",
       "        text-align: right;\n",
       "    }\n",
       "</style>\n",
       "<table border=\"1\" class=\"dataframe\">\n",
       "  <thead>\n",
       "    <tr style=\"text-align: right;\">\n",
       "      <th></th>\n",
       "      <th>Batch Size</th>\n",
       "      <th>Mean Cross-Validation Accuracy</th>\n",
       "      <th>Epoch Time for Fold 1</th>\n",
       "      <th>Epoch Time for Fold 2</th>\n",
       "      <th>Epoch Time for Fold 3</th>\n",
       "      <th>Epoch Time for Fold 4</th>\n",
       "      <th>Epoch Time for Fold 5</th>\n",
       "    </tr>\n",
       "  </thead>\n",
       "  <tbody>\n",
       "    <tr>\n",
       "      <th>0</th>\n",
       "      <td>64</td>\n",
       "      <td>0.690928</td>\n",
       "      <td>0.220998</td>\n",
       "      <td>0.226000</td>\n",
       "      <td>0.209999</td>\n",
       "      <td>0.217000</td>\n",
       "      <td>0.223001</td>\n",
       "    </tr>\n",
       "    <tr>\n",
       "      <th>1</th>\n",
       "      <td>128</td>\n",
       "      <td>0.673924</td>\n",
       "      <td>0.141001</td>\n",
       "      <td>0.140003</td>\n",
       "      <td>0.148000</td>\n",
       "      <td>0.137515</td>\n",
       "      <td>0.147998</td>\n",
       "    </tr>\n",
       "    <tr>\n",
       "      <th>2</th>\n",
       "      <td>256</td>\n",
       "      <td>0.673717</td>\n",
       "      <td>0.112000</td>\n",
       "      <td>0.111996</td>\n",
       "      <td>0.108000</td>\n",
       "      <td>0.104996</td>\n",
       "      <td>0.097001</td>\n",
       "    </tr>\n",
       "    <tr>\n",
       "      <th>3</th>\n",
       "      <td>512</td>\n",
       "      <td>0.653810</td>\n",
       "      <td>0.091995</td>\n",
       "      <td>0.081999</td>\n",
       "      <td>0.085510</td>\n",
       "      <td>0.084554</td>\n",
       "      <td>0.089000</td>\n",
       "    </tr>\n",
       "  </tbody>\n",
       "</table>\n",
       "</div>"
      ],
      "text/plain": [
       "   Batch Size  Mean Cross-Validation Accuracy  Epoch Time for Fold 1  \\\n",
       "0          64                        0.690928               0.220998   \n",
       "1         128                        0.673924               0.141001   \n",
       "2         256                        0.673717               0.112000   \n",
       "3         512                        0.653810               0.091995   \n",
       "\n",
       "   Epoch Time for Fold 2  Epoch Time for Fold 3  Epoch Time for Fold 4  \\\n",
       "0               0.226000               0.209999               0.217000   \n",
       "1               0.140003               0.148000               0.137515   \n",
       "2               0.111996               0.108000               0.104996   \n",
       "3               0.081999               0.085510               0.084554   \n",
       "\n",
       "   Epoch Time for Fold 5  \n",
       "0               0.223001  \n",
       "1               0.147998  \n",
       "2               0.097001  \n",
       "3               0.089000  "
      ]
     },
     "execution_count": 148,
     "metadata": {},
     "output_type": "execute_result"
    }
   ],
   "source": [
    "df = pd.DataFrame({'Batch Size': batch_sizes,\n",
    "                   'Mean Cross-Validation Accuracy': cross_validation_accuracies,\n",
    "                  })\n",
    "\n",
    "for time in range(len(cross_validation_times)):\n",
    "    for fold in range(5):\n",
    "        df.loc[time, f'Epoch Time for Fold {fold + 1}'] = cross_validation_times[time][fold]\n",
    "df"
   ]
  },
  {
   "cell_type": "code",
   "execution_count": 150,
   "metadata": {},
   "outputs": [],
   "source": [
    "# YOUR CODE HERE\n",
    "optimal_batch_size = \"256\"\n",
    "reason =\"\"\"\n",
    "From the result, \n",
    "\n",
    "The general trend of the result is: \n",
    "    As batch size increases, the Mean Cross-Validation Accuracy decreases. \n",
    "    As batch size increases, the Epoch Time for a fold decreases. \n",
    "\n",
    "This shows that there is a trade off between high Mean Cross-Validation Accuracy and Epoch Time for a fold\n",
    "for a given batch size\n",
    "\n",
    "Given that we would want to ensure that our model has high accurancy value while not using too much \n",
    "computational resources. I would choose the optimal_batch_size to be 256 given that its Mean \n",
    "Cross-Validation Accruracy is relatively similar to that of batch size = 64 while having half the time \n",
    "for each epoch.\n",
    "\n",
    "This is to strikes a good balance between maintaining high accuracy and reducing training time. \n",
    "\"\"\""
   ]
  },
  {
   "cell_type": "code",
   "execution_count": null,
   "metadata": {},
   "outputs": [],
   "source": []
  }
 ],
 "metadata": {
  "kernelspec": {
   "display_name": "venv",
   "language": "python",
   "name": "python3"
  },
  "language_info": {
   "codemirror_mode": {
    "name": "ipython",
    "version": 3
   },
   "file_extension": ".py",
   "mimetype": "text/x-python",
   "name": "python",
   "nbconvert_exporter": "python",
   "pygments_lexer": "ipython3",
   "version": "3.12.7"
  }
 },
 "nbformat": 4,
 "nbformat_minor": 2
}
