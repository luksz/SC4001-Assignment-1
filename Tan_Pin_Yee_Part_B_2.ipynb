{
 "cells": [
  {
   "cell_type": "markdown",
   "metadata": {
    "id": "NFVxWZGJxprU"
   },
   "source": [
    "# Question B2 (10 marks)\n",
    "In Question B1, we used the Category Embedding model. This creates a feedforward neural network in which the categorical features get learnable embeddings. In this question, we will make use of a library called Pytorch-WideDeep. This library makes it easy to work with multimodal deep-learning problems combining images, text, and tables. We will just be utilizing the deeptabular component of this library through the TabMlp network:"
   ]
  },
  {
   "cell_type": "code",
   "execution_count": 1,
   "metadata": {
    "id": "EycCozG06Duu"
   },
   "outputs": [
    {
     "name": "stdout",
     "output_type": "stream",
     "text": [
      "Requirement already satisfied: pytorch-widedeep in c:\\users\\65976\\appdata\\roaming\\python\\python312\\site-packages (1.6.3)\n",
      "Requirement already satisfied: pandas>=1.3.5 in c:\\python312\\lib\\site-packages (from pytorch-widedeep) (2.2.1)\n",
      "Requirement already satisfied: numpy<2.0.0,>=1.21.6 in c:\\users\\65976\\appdata\\roaming\\python\\python312\\site-packages (from pytorch-widedeep) (1.26.4)\n",
      "Requirement already satisfied: scipy<=1.12.0,>=1.7.3 in c:\\python312\\lib\\site-packages (from pytorch-widedeep) (1.12.0)\n",
      "Requirement already satisfied: scikit-learn>=1.0.2 in c:\\python312\\lib\\site-packages (from pytorch-widedeep) (1.5.2)\n",
      "Requirement already satisfied: gensim in c:\\users\\65976\\appdata\\roaming\\python\\python312\\site-packages (from pytorch-widedeep) (4.3.3)\n",
      "Requirement already satisfied: spacy in c:\\users\\65976\\appdata\\roaming\\python\\python312\\site-packages (from pytorch-widedeep) (3.7.5)\n",
      "Requirement already satisfied: opencv-contrib-python in c:\\python312\\lib\\site-packages (from pytorch-widedeep) (4.10.0.84)\n",
      "Requirement already satisfied: imutils in c:\\python312\\lib\\site-packages (from pytorch-widedeep) (0.5.4)\n",
      "Requirement already satisfied: tqdm in c:\\users\\65976\\appdata\\roaming\\python\\python312\\site-packages (from pytorch-widedeep) (4.66.5)\n",
      "Requirement already satisfied: torch>=2.0.0 in c:\\users\\65976\\appdata\\roaming\\python\\python312\\site-packages (from pytorch-widedeep) (2.2.1)\n",
      "Requirement already satisfied: torchvision>=0.15.0 in c:\\users\\65976\\appdata\\roaming\\python\\python312\\site-packages (from pytorch-widedeep) (0.17.1)\n",
      "Requirement already satisfied: einops in c:\\users\\65976\\appdata\\roaming\\python\\python312\\site-packages (from pytorch-widedeep) (0.7.0)\n",
      "Requirement already satisfied: wrapt in c:\\python312\\lib\\site-packages (from pytorch-widedeep) (1.16.0)\n",
      "Requirement already satisfied: torchmetrics in c:\\users\\65976\\appdata\\roaming\\python\\python312\\site-packages (from pytorch-widedeep) (1.2.1)\n",
      "Requirement already satisfied: pyarrow in c:\\python312\\lib\\site-packages (from pytorch-widedeep) (17.0.0)\n",
      "Requirement already satisfied: fastparquet>=0.8.1 in c:\\users\\65976\\appdata\\roaming\\python\\python312\\site-packages (from pytorch-widedeep) (2024.5.0)\n",
      "Requirement already satisfied: transformers in c:\\users\\65976\\appdata\\roaming\\python\\python312\\site-packages (from pytorch-widedeep) (4.45.2)\n",
      "Requirement already satisfied: sentence-transformers in c:\\users\\65976\\appdata\\roaming\\python\\python312\\site-packages (from pytorch-widedeep) (3.2.0)\n",
      "Requirement already satisfied: sentencepiece in c:\\python312\\lib\\site-packages (from pytorch-widedeep) (0.2.0)\n",
      "Requirement already satisfied: cramjam>=2.3 in c:\\python312\\lib\\site-packages (from fastparquet>=0.8.1->pytorch-widedeep) (2.8.4)\n",
      "Requirement already satisfied: fsspec in c:\\users\\65976\\appdata\\roaming\\python\\python312\\site-packages (from fastparquet>=0.8.1->pytorch-widedeep) (2024.3.0)\n",
      "Requirement already satisfied: packaging in c:\\users\\65976\\appdata\\roaming\\python\\python312\\site-packages (from fastparquet>=0.8.1->pytorch-widedeep) (24.1)\n",
      "Requirement already satisfied: python-dateutil>=2.8.2 in c:\\python312\\lib\\site-packages (from pandas>=1.3.5->pytorch-widedeep) (2.9.0.post0)\n",
      "Requirement already satisfied: pytz>=2020.1 in c:\\python312\\lib\\site-packages (from pandas>=1.3.5->pytorch-widedeep) (2024.1)\n",
      "Requirement already satisfied: tzdata>=2022.7 in c:\\python312\\lib\\site-packages (from pandas>=1.3.5->pytorch-widedeep) (2024.1)\n",
      "Requirement already satisfied: joblib>=1.2.0 in c:\\python312\\lib\\site-packages (from scikit-learn>=1.0.2->pytorch-widedeep) (1.4.2)\n",
      "Requirement already satisfied: threadpoolctl>=3.1.0 in c:\\python312\\lib\\site-packages (from scikit-learn>=1.0.2->pytorch-widedeep) (3.5.0)\n",
      "Requirement already satisfied: filelock in c:\\users\\65976\\appdata\\roaming\\python\\python312\\site-packages (from torch>=2.0.0->pytorch-widedeep) (3.13.1)\n",
      "Requirement already satisfied: typing-extensions>=4.8.0 in c:\\python312\\lib\\site-packages (from torch>=2.0.0->pytorch-widedeep) (4.10.0)\n",
      "Requirement already satisfied: sympy in c:\\python312\\lib\\site-packages (from torch>=2.0.0->pytorch-widedeep) (1.12)\n",
      "Requirement already satisfied: networkx in c:\\users\\65976\\appdata\\roaming\\python\\python312\\site-packages (from torch>=2.0.0->pytorch-widedeep) (2.8.8)\n",
      "Requirement already satisfied: jinja2 in c:\\users\\65976\\appdata\\roaming\\python\\python312\\site-packages (from torch>=2.0.0->pytorch-widedeep) (3.1.3)\n",
      "Requirement already satisfied: pillow!=8.3.*,>=5.3.0 in c:\\python312\\lib\\site-packages (from torchvision>=0.15.0->pytorch-widedeep) (10.4.0)\n",
      "Requirement already satisfied: smart-open>=1.8.1 in c:\\python312\\lib\\site-packages (from gensim->pytorch-widedeep) (7.0.5)\n",
      "Requirement already satisfied: huggingface-hub>=0.20.0 in c:\\python312\\lib\\site-packages (from sentence-transformers->pytorch-widedeep) (0.25.2)\n",
      "Requirement already satisfied: pyyaml>=5.1 in c:\\users\\65976\\appdata\\roaming\\python\\python312\\site-packages (from transformers->pytorch-widedeep) (6.0.2)\n",
      "Requirement already satisfied: regex!=2019.12.17 in c:\\python312\\lib\\site-packages (from transformers->pytorch-widedeep) (2024.9.11)\n",
      "Requirement already satisfied: requests in c:\\users\\65976\\appdata\\roaming\\python\\python312\\site-packages (from transformers->pytorch-widedeep) (2.32.3)\n",
      "Requirement already satisfied: safetensors>=0.4.1 in c:\\python312\\lib\\site-packages (from transformers->pytorch-widedeep) (0.4.5)\n",
      "Requirement already satisfied: tokenizers<0.21,>=0.20 in c:\\users\\65976\\appdata\\roaming\\python\\python312\\site-packages (from transformers->pytorch-widedeep) (0.20.1)\n",
      "Requirement already satisfied: colorama in c:\\users\\65976\\appdata\\roaming\\python\\python312\\site-packages (from tqdm->pytorch-widedeep) (0.4.6)\n",
      "Requirement already satisfied: spacy-legacy<3.1.0,>=3.0.11 in c:\\python312\\lib\\site-packages (from spacy->pytorch-widedeep) (3.0.12)\n",
      "Requirement already satisfied: spacy-loggers<2.0.0,>=1.0.0 in c:\\python312\\lib\\site-packages (from spacy->pytorch-widedeep) (1.0.5)\n",
      "Requirement already satisfied: murmurhash<1.1.0,>=0.28.0 in c:\\python312\\lib\\site-packages (from spacy->pytorch-widedeep) (1.0.10)\n",
      "Requirement already satisfied: cymem<2.1.0,>=2.0.2 in c:\\python312\\lib\\site-packages (from spacy->pytorch-widedeep) (2.0.8)\n",
      "Requirement already satisfied: preshed<3.1.0,>=3.0.2 in c:\\python312\\lib\\site-packages (from spacy->pytorch-widedeep) (3.0.9)\n",
      "Requirement already satisfied: thinc<8.3.0,>=8.2.2 in c:\\users\\65976\\appdata\\roaming\\python\\python312\\site-packages (from spacy->pytorch-widedeep) (8.2.5)\n",
      "Requirement already satisfied: wasabi<1.2.0,>=0.9.1 in c:\\python312\\lib\\site-packages (from spacy->pytorch-widedeep) (1.1.3)\n",
      "Requirement already satisfied: srsly<3.0.0,>=2.4.3 in c:\\python312\\lib\\site-packages (from spacy->pytorch-widedeep) (2.4.8)\n",
      "Requirement already satisfied: catalogue<2.1.0,>=2.0.6 in c:\\python312\\lib\\site-packages (from spacy->pytorch-widedeep) (2.0.10)\n",
      "Requirement already satisfied: weasel<0.5.0,>=0.1.0 in c:\\users\\65976\\appdata\\roaming\\python\\python312\\site-packages (from spacy->pytorch-widedeep) (0.4.1)\n",
      "Requirement already satisfied: typer<1.0.0,>=0.3.0 in c:\\users\\65976\\appdata\\roaming\\python\\python312\\site-packages (from spacy->pytorch-widedeep) (0.12.5)\n",
      "Requirement already satisfied: pydantic!=1.8,!=1.8.1,<3.0.0,>=1.7.4 in c:\\python312\\lib\\site-packages (from spacy->pytorch-widedeep) (2.9.2)\n",
      "Requirement already satisfied: setuptools in c:\\python312\\lib\\site-packages (from spacy->pytorch-widedeep) (74.1.2)\n",
      "Requirement already satisfied: langcodes<4.0.0,>=3.2.0 in c:\\users\\65976\\appdata\\roaming\\python\\python312\\site-packages (from spacy->pytorch-widedeep) (3.4.1)\n",
      "Requirement already satisfied: lightning-utilities>=0.8.0 in c:\\python312\\lib\\site-packages (from torchmetrics->pytorch-widedeep) (0.11.7)\n",
      "Requirement already satisfied: language-data>=1.2 in c:\\python312\\lib\\site-packages (from langcodes<4.0.0,>=3.2.0->spacy->pytorch-widedeep) (1.2.0)\n",
      "Requirement already satisfied: annotated-types>=0.6.0 in c:\\python312\\lib\\site-packages (from pydantic!=1.8,!=1.8.1,<3.0.0,>=1.7.4->spacy->pytorch-widedeep) (0.7.0)\n",
      "Requirement already satisfied: pydantic-core==2.23.4 in c:\\python312\\lib\\site-packages (from pydantic!=1.8,!=1.8.1,<3.0.0,>=1.7.4->spacy->pytorch-widedeep) (2.23.4)\n",
      "Requirement already satisfied: six>=1.5 in c:\\python312\\lib\\site-packages (from python-dateutil>=2.8.2->pandas>=1.3.5->pytorch-widedeep) (1.16.0)\n",
      "Requirement already satisfied: charset-normalizer<4,>=2 in c:\\users\\65976\\appdata\\roaming\\python\\python312\\site-packages (from requests->transformers->pytorch-widedeep) (3.3.2)\n",
      "Requirement already satisfied: idna<4,>=2.5 in c:\\users\\65976\\appdata\\roaming\\python\\python312\\site-packages (from requests->transformers->pytorch-widedeep) (3.8)\n",
      "Requirement already satisfied: urllib3<3,>=1.21.1 in c:\\python312\\lib\\site-packages (from requests->transformers->pytorch-widedeep) (2.2.2)\n",
      "Requirement already satisfied: certifi>=2017.4.17 in c:\\users\\65976\\appdata\\roaming\\python\\python312\\site-packages (from requests->transformers->pytorch-widedeep) (2024.8.30)\n",
      "Requirement already satisfied: blis<0.8.0,>=0.7.8 in c:\\python312\\lib\\site-packages (from thinc<8.3.0,>=8.2.2->spacy->pytorch-widedeep) (0.7.11)\n",
      "Requirement already satisfied: confection<1.0.0,>=0.0.1 in c:\\users\\65976\\appdata\\roaming\\python\\python312\\site-packages (from thinc<8.3.0,>=8.2.2->spacy->pytorch-widedeep) (0.1.5)\n",
      "Requirement already satisfied: click>=8.0.0 in c:\\users\\65976\\appdata\\roaming\\python\\python312\\site-packages (from typer<1.0.0,>=0.3.0->spacy->pytorch-widedeep) (8.1.7)\n",
      "Requirement already satisfied: shellingham>=1.3.0 in c:\\python312\\lib\\site-packages (from typer<1.0.0,>=0.3.0->spacy->pytorch-widedeep) (1.5.4)\n",
      "Requirement already satisfied: rich>=10.11.0 in c:\\python312\\lib\\site-packages (from typer<1.0.0,>=0.3.0->spacy->pytorch-widedeep) (13.9.2)\n",
      "Requirement already satisfied: cloudpathlib<1.0.0,>=0.7.0 in c:\\python312\\lib\\site-packages (from weasel<0.5.0,>=0.1.0->spacy->pytorch-widedeep) (0.19.0)\n",
      "Requirement already satisfied: MarkupSafe>=2.0 in c:\\users\\65976\\appdata\\roaming\\python\\python312\\site-packages (from jinja2->torch>=2.0.0->pytorch-widedeep) (2.1.5)\n",
      "Requirement already satisfied: mpmath>=0.19 in c:\\python312\\lib\\site-packages (from sympy->torch>=2.0.0->pytorch-widedeep) (1.3.0)\n",
      "Requirement already satisfied: marisa-trie>=0.7.7 in c:\\python312\\lib\\site-packages (from language-data>=1.2->langcodes<4.0.0,>=3.2.0->spacy->pytorch-widedeep) (1.2.0)\n",
      "Requirement already satisfied: markdown-it-py>=2.2.0 in c:\\python312\\lib\\site-packages (from rich>=10.11.0->typer<1.0.0,>=0.3.0->spacy->pytorch-widedeep) (3.0.0)\n",
      "Requirement already satisfied: pygments<3.0.0,>=2.13.0 in c:\\python312\\lib\\site-packages (from rich>=10.11.0->typer<1.0.0,>=0.3.0->spacy->pytorch-widedeep) (2.18.0)\n",
      "Requirement already satisfied: mdurl~=0.1 in c:\\python312\\lib\\site-packages (from markdown-it-py>=2.2.0->rich>=10.11.0->typer<1.0.0,>=0.3.0->spacy->pytorch-widedeep) (0.1.2)\n"
     ]
    },
    {
     "name": "stderr",
     "output_type": "stream",
     "text": [
      "\n",
      "[notice] A new release of pip is available: 24.0 -> 24.2\n",
      "[notice] To update, run: python.exe -m pip install --upgrade pip\n"
     ]
    }
   ],
   "source": [
    "!pip install pytorch-widedeep --user"
   ]
  },
  {
   "cell_type": "code",
   "execution_count": 2,
   "metadata": {
    "id": "lq0elU0J53Yo"
   },
   "outputs": [],
   "source": [
    "SEED = 42\n",
    "\n",
    "import os\n",
    "\n",
    "import random\n",
    "random.seed(SEED)\n",
    "\n",
    "import numpy as np\n",
    "np.random.seed(SEED)\n",
    "\n",
    "import pandas as pd\n",
    "\n",
    "from pytorch_widedeep.preprocessing import TabPreprocessor\n",
    "from pytorch_widedeep.models import TabMlp, WideDeep\n",
    "from pytorch_widedeep import Trainer\n",
    "from pytorch_widedeep.metrics import R2Score"
   ]
  },
  {
   "cell_type": "markdown",
   "metadata": {
    "id": "aU3xdVpwzuLx"
   },
   "source": [
    "1.Divide the dataset (‘hdb_price_prediction.csv’) into train and test sets by using entries from the year 2020 and before as training data, and entries from 2021 and after as the test data."
   ]
  },
  {
   "cell_type": "code",
   "execution_count": 3,
   "metadata": {
    "id": "_oYG6lNIh7Mp"
   },
   "outputs": [
    {
     "name": "stdout",
     "output_type": "stream",
     "text": [
      "Training data :  [2017 2018 2019 2020]\n",
      "Testing data :  [2021 2022 2023]\n"
     ]
    }
   ],
   "source": [
    "df = pd.read_csv('hdb_price_prediction.csv')\n",
    "\n",
    "# YOUR CODE HERE\n",
    "\n",
    "df_train = df[df[\"year\"] <= 2020]\n",
    "df_test = df[df[\"year\"] >= 2021]\n",
    "\n",
    "print(\"Training data : \",df_train[\"year\"].unique())\n",
    "print(\"Testing data : \",df_test[\"year\"].unique())"
   ]
  },
  {
   "cell_type": "code",
   "execution_count": null,
   "metadata": {},
   "outputs": [],
   "source": []
  },
  {
   "cell_type": "markdown",
   "metadata": {
    "id": "m_q9PoR50JAA"
   },
   "source": [
    "2.Refer to the documentation of Pytorch-WideDeep and perform the following tasks:\n",
    "https://pytorch-widedeep.readthedocs.io/en/latest/index.html\n",
    "* Use [**TabPreprocessor**](https://pytorch-widedeep.readthedocs.io/en/latest/examples/01_preprocessors_and_utils.html#2-tabpreprocessor) to create the deeptabular component using the continuous\n",
    "features and the categorical features. Use this component to transform the training dataset.\n",
    "* Create the [**TabMlp**](https://pytorch-widedeep.readthedocs.io/en/latest/pytorch-widedeep/model_components.html#pytorch_widedeep.models.tabular.mlp.tab_mlp.TabMlp) model with 2 linear layers in the MLP, with 200 and 100 neurons respectively.\n",
    "* Create a [**Trainer**](https://pytorch-widedeep.readthedocs.io/en/latest/pytorch-widedeep/trainer.html#pytorch_widedeep.training.Trainer) for the training of the created TabMlp model with the root mean squared error (RMSE) cost function. Train the model for 100 epochs using this trainer, keeping a batch size of 64. (Note: set the *num_workers* parameter to 0.)"
   ]
  },
  {
   "cell_type": "code",
   "execution_count": 4,
   "metadata": {
    "id": "ZBY1iqUXtYWn"
   },
   "outputs": [
    {
     "name": "stderr",
     "output_type": "stream",
     "text": [
      "C:\\Users\\65976\\AppData\\Roaming\\Python\\Python312\\site-packages\\pytorch_widedeep\\preprocessing\\tab_preprocessor.py:360: UserWarning: Continuous columns will not be normalised\n",
      "  warnings.warn(\"Continuous columns will not be normalised\")\n",
      "epoch 1: 100%|██████████| 1366/1366 [00:09<00:00, 150.83it/s, loss=1.86e+5, metrics={'r2': -1.2865}]\n",
      "epoch 2: 100%|██████████| 1366/1366 [00:09<00:00, 151.54it/s, loss=9.98e+4, metrics={'r2': 0.4848}]\n",
      "epoch 3: 100%|██████████| 1366/1366 [00:09<00:00, 144.39it/s, loss=7.93e+4, metrics={'r2': 0.6829}]\n",
      "epoch 4: 100%|██████████| 1366/1366 [00:09<00:00, 138.86it/s, loss=6.69e+4, metrics={'r2': 0.7916}]\n",
      "epoch 5: 100%|██████████| 1366/1366 [00:09<00:00, 144.35it/s, loss=6.18e+4, metrics={'r2': 0.8273}]\n",
      "epoch 6: 100%|██████████| 1366/1366 [00:09<00:00, 138.98it/s, loss=5.97e+4, metrics={'r2': 0.8401}]\n",
      "epoch 7: 100%|██████████| 1366/1366 [00:10<00:00, 126.46it/s, loss=5.87e+4, metrics={'r2': 0.8455}]\n",
      "epoch 8: 100%|██████████| 1366/1366 [00:11<00:00, 115.34it/s, loss=5.78e+4, metrics={'r2': 0.8499}]\n",
      "epoch 9: 100%|██████████| 1366/1366 [00:10<00:00, 130.90it/s, loss=5.68e+4, metrics={'r2': 0.8555}]\n",
      "epoch 10: 100%|██████████| 1366/1366 [00:10<00:00, 127.33it/s, loss=5.62e+4, metrics={'r2': 0.8584}]\n",
      "epoch 11: 100%|██████████| 1366/1366 [00:12<00:00, 106.12it/s, loss=5.56e+4, metrics={'r2': 0.8615}]\n",
      "epoch 12: 100%|██████████| 1366/1366 [00:13<00:00, 101.23it/s, loss=5.48e+4, metrics={'r2': 0.8654}]\n",
      "epoch 13: 100%|██████████| 1366/1366 [00:13<00:00, 101.35it/s, loss=5.43e+4, metrics={'r2': 0.8682}]\n",
      "epoch 14: 100%|██████████| 1366/1366 [00:12<00:00, 106.98it/s, loss=5.38e+4, metrics={'r2': 0.8707}]\n",
      "epoch 15: 100%|██████████| 1366/1366 [00:12<00:00, 107.98it/s, loss=5.33e+4, metrics={'r2': 0.873}] \n",
      "epoch 16: 100%|██████████| 1366/1366 [00:12<00:00, 107.74it/s, loss=5.28e+4, metrics={'r2': 0.8755}]\n",
      "epoch 17: 100%|██████████| 1366/1366 [00:12<00:00, 109.51it/s, loss=5.23e+4, metrics={'r2': 0.878}] \n",
      "epoch 18: 100%|██████████| 1366/1366 [00:12<00:00, 109.53it/s, loss=5.19e+4, metrics={'r2': 0.8802}]\n",
      "epoch 19: 100%|██████████| 1366/1366 [00:12<00:00, 110.11it/s, loss=5.16e+4, metrics={'r2': 0.8813}]\n",
      "epoch 20: 100%|██████████| 1366/1366 [00:12<00:00, 112.61it/s, loss=5.13e+4, metrics={'r2': 0.8829}]\n",
      "epoch 21: 100%|██████████| 1366/1366 [00:12<00:00, 112.99it/s, loss=5.1e+4, metrics={'r2': 0.8839}] \n",
      "epoch 22: 100%|██████████| 1366/1366 [00:12<00:00, 113.30it/s, loss=5.07e+4, metrics={'r2': 0.8856}]\n",
      "epoch 23: 100%|██████████| 1366/1366 [00:12<00:00, 113.55it/s, loss=5.05e+4, metrics={'r2': 0.8865}]\n",
      "epoch 24: 100%|██████████| 1366/1366 [00:12<00:00, 112.66it/s, loss=5.04e+4, metrics={'r2': 0.8871}]\n",
      "epoch 25: 100%|██████████| 1366/1366 [00:12<00:00, 112.69it/s, loss=5e+4, metrics={'r2': 0.8887}]   \n",
      "epoch 26: 100%|██████████| 1366/1366 [00:12<00:00, 113.05it/s, loss=4.99e+4, metrics={'r2': 0.8891}]\n",
      "epoch 27: 100%|██████████| 1366/1366 [00:12<00:00, 112.11it/s, loss=4.97e+4, metrics={'r2': 0.8901}]\n",
      "epoch 28: 100%|██████████| 1366/1366 [00:12<00:00, 110.63it/s, loss=4.96e+4, metrics={'r2': 0.89}]  \n",
      "epoch 29: 100%|██████████| 1366/1366 [00:12<00:00, 108.23it/s, loss=4.95e+4, metrics={'r2': 0.891}] \n",
      "epoch 30: 100%|██████████| 1366/1366 [00:13<00:00, 103.45it/s, loss=4.95e+4, metrics={'r2': 0.8909}]\n",
      "epoch 31: 100%|██████████| 1366/1366 [00:12<00:00, 110.44it/s, loss=4.93e+4, metrics={'r2': 0.8918}]\n",
      "epoch 32: 100%|██████████| 1366/1366 [00:12<00:00, 111.69it/s, loss=4.92e+4, metrics={'r2': 0.8919}]\n",
      "epoch 33: 100%|██████████| 1366/1366 [00:12<00:00, 113.10it/s, loss=4.9e+4, metrics={'r2': 0.8927}] \n",
      "epoch 34: 100%|██████████| 1366/1366 [00:12<00:00, 112.79it/s, loss=4.92e+4, metrics={'r2': 0.8924}]\n",
      "epoch 35: 100%|██████████| 1366/1366 [00:12<00:00, 113.24it/s, loss=4.88e+4, metrics={'r2': 0.8938}]\n",
      "epoch 36: 100%|██████████| 1366/1366 [00:11<00:00, 114.00it/s, loss=4.89e+4, metrics={'r2': 0.8933}]\n",
      "epoch 37: 100%|██████████| 1366/1366 [00:12<00:00, 112.41it/s, loss=4.89e+4, metrics={'r2': 0.8933}]\n",
      "epoch 38: 100%|██████████| 1366/1366 [00:11<00:00, 123.08it/s, loss=4.88e+4, metrics={'r2': 0.8938}]\n",
      "epoch 39: 100%|██████████| 1366/1366 [00:11<00:00, 118.63it/s, loss=4.88e+4, metrics={'r2': 0.8937}]\n",
      "epoch 40: 100%|██████████| 1366/1366 [00:13<00:00, 99.38it/s, loss=4.87e+4, metrics={'r2': 0.8945}] \n",
      "epoch 41: 100%|██████████| 1366/1366 [00:17<00:00, 76.70it/s, loss=4.87e+4, metrics={'r2': 0.8943}]\n",
      "epoch 42: 100%|██████████| 1366/1366 [00:13<00:00, 104.55it/s, loss=4.85e+4, metrics={'r2': 0.8953}]\n",
      "epoch 43: 100%|██████████| 1366/1366 [00:10<00:00, 133.89it/s, loss=4.85e+4, metrics={'r2': 0.8949}]\n",
      "epoch 44: 100%|██████████| 1366/1366 [00:10<00:00, 126.34it/s, loss=4.85e+4, metrics={'r2': 0.8951}]\n",
      "epoch 45: 100%|██████████| 1366/1366 [00:10<00:00, 127.96it/s, loss=4.85e+4, metrics={'r2': 0.895}] \n",
      "epoch 46: 100%|██████████| 1366/1366 [00:09<00:00, 143.12it/s, loss=4.83e+4, metrics={'r2': 0.8957}]\n",
      "epoch 47: 100%|██████████| 1366/1366 [00:10<00:00, 135.29it/s, loss=4.84e+4, metrics={'r2': 0.8956}]\n",
      "epoch 48: 100%|██████████| 1366/1366 [00:09<00:00, 144.11it/s, loss=4.83e+4, metrics={'r2': 0.8962}]\n",
      "epoch 49: 100%|██████████| 1366/1366 [00:09<00:00, 143.14it/s, loss=4.84e+4, metrics={'r2': 0.8957}]\n",
      "epoch 50: 100%|██████████| 1366/1366 [00:09<00:00, 143.64it/s, loss=4.81e+4, metrics={'r2': 0.8967}]\n",
      "epoch 51: 100%|██████████| 1366/1366 [00:09<00:00, 143.59it/s, loss=4.83e+4, metrics={'r2': 0.8959}]\n",
      "epoch 52: 100%|██████████| 1366/1366 [00:09<00:00, 143.98it/s, loss=4.79e+4, metrics={'r2': 0.8977}]\n",
      "epoch 53: 100%|██████████| 1366/1366 [00:09<00:00, 142.71it/s, loss=4.79e+4, metrics={'r2': 0.8977}]\n",
      "epoch 54: 100%|██████████| 1366/1366 [00:09<00:00, 143.69it/s, loss=4.81e+4, metrics={'r2': 0.8966}]\n",
      "epoch 55: 100%|██████████| 1366/1366 [00:09<00:00, 141.56it/s, loss=4.79e+4, metrics={'r2': 0.8975}]\n",
      "epoch 56: 100%|██████████| 1366/1366 [00:09<00:00, 142.48it/s, loss=4.79e+4, metrics={'r2': 0.8976}]\n",
      "epoch 57: 100%|██████████| 1366/1366 [00:09<00:00, 141.23it/s, loss=4.78e+4, metrics={'r2': 0.898}] \n",
      "epoch 58: 100%|██████████| 1366/1366 [00:09<00:00, 142.39it/s, loss=4.78e+4, metrics={'r2': 0.8981}]\n",
      "epoch 59: 100%|██████████| 1366/1366 [00:09<00:00, 139.42it/s, loss=4.78e+4, metrics={'r2': 0.8979}]\n",
      "epoch 60: 100%|██████████| 1366/1366 [00:09<00:00, 137.48it/s, loss=4.76e+4, metrics={'r2': 0.8989}]\n",
      "epoch 61: 100%|██████████| 1366/1366 [00:09<00:00, 143.07it/s, loss=4.76e+4, metrics={'r2': 0.899}] \n",
      "epoch 62: 100%|██████████| 1366/1366 [00:09<00:00, 138.79it/s, loss=4.75e+4, metrics={'r2': 0.8988}]\n",
      "epoch 63: 100%|██████████| 1366/1366 [00:09<00:00, 141.88it/s, loss=4.77e+4, metrics={'r2': 0.8983}]\n",
      "epoch 64: 100%|██████████| 1366/1366 [00:09<00:00, 142.66it/s, loss=4.76e+4, metrics={'r2': 0.8989}]\n",
      "epoch 65: 100%|██████████| 1366/1366 [00:09<00:00, 142.68it/s, loss=4.74e+4, metrics={'r2': 0.8997}]\n",
      "epoch 66: 100%|██████████| 1366/1366 [00:09<00:00, 141.78it/s, loss=4.76e+4, metrics={'r2': 0.8986}]\n",
      "epoch 67: 100%|██████████| 1366/1366 [00:09<00:00, 139.89it/s, loss=4.74e+4, metrics={'r2': 0.8997}]\n",
      "epoch 68: 100%|██████████| 1366/1366 [00:09<00:00, 140.73it/s, loss=4.71e+4, metrics={'r2': 0.9007}]\n",
      "epoch 69: 100%|██████████| 1366/1366 [00:09<00:00, 142.83it/s, loss=4.72e+4, metrics={'r2': 0.9005}]\n",
      "epoch 70: 100%|██████████| 1366/1366 [00:09<00:00, 141.85it/s, loss=4.73e+4, metrics={'r2': 0.9}]   \n",
      "epoch 71: 100%|██████████| 1366/1366 [00:13<00:00, 102.93it/s, loss=4.73e+4, metrics={'r2': 0.9}]   \n",
      "epoch 72: 100%|██████████| 1366/1366 [00:10<00:00, 134.49it/s, loss=4.72e+4, metrics={'r2': 0.9005}]\n",
      "epoch 73: 100%|██████████| 1366/1366 [00:14<00:00, 91.80it/s, loss=4.73e+4, metrics={'r2': 0.8998}]\n",
      "epoch 74: 100%|██████████| 1366/1366 [00:16<00:00, 84.04it/s, loss=4.71e+4, metrics={'r2': 0.9008}]\n",
      "epoch 75: 100%|██████████| 1366/1366 [00:16<00:00, 85.22it/s, loss=4.72e+4, metrics={'r2': 0.9005}] \n",
      "epoch 76: 100%|██████████| 1366/1366 [00:13<00:00, 101.39it/s, loss=4.7e+4, metrics={'r2': 0.9012}] \n",
      "epoch 77: 100%|██████████| 1366/1366 [00:16<00:00, 82.22it/s, loss=4.69e+4, metrics={'r2': 0.9017}]\n",
      "epoch 78: 100%|██████████| 1366/1366 [00:12<00:00, 113.61it/s, loss=4.7e+4, metrics={'r2': 0.9011}] \n",
      "epoch 79: 100%|██████████| 1366/1366 [00:09<00:00, 138.53it/s, loss=4.72e+4, metrics={'r2': 0.9005}]\n",
      "epoch 80: 100%|██████████| 1366/1366 [00:10<00:00, 130.44it/s, loss=4.71e+4, metrics={'r2': 0.9007}]\n",
      "epoch 81: 100%|██████████| 1366/1366 [00:10<00:00, 130.28it/s, loss=4.69e+4, metrics={'r2': 0.902}] \n",
      "epoch 82: 100%|██████████| 1366/1366 [00:10<00:00, 132.65it/s, loss=4.69e+4, metrics={'r2': 0.9018}]\n",
      "epoch 83: 100%|██████████| 1366/1366 [00:09<00:00, 138.45it/s, loss=4.7e+4, metrics={'r2': 0.9012}] \n",
      "epoch 84: 100%|██████████| 1366/1366 [00:10<00:00, 135.08it/s, loss=4.7e+4, metrics={'r2': 0.901}]  \n",
      "epoch 85: 100%|██████████| 1366/1366 [00:09<00:00, 140.25it/s, loss=4.67e+4, metrics={'r2': 0.9027}]\n",
      "epoch 86: 100%|██████████| 1366/1366 [00:09<00:00, 139.57it/s, loss=4.68e+4, metrics={'r2': 0.902}] \n",
      "epoch 87: 100%|██████████| 1366/1366 [00:10<00:00, 131.98it/s, loss=4.67e+4, metrics={'r2': 0.9026}]\n",
      "epoch 88: 100%|██████████| 1366/1366 [00:10<00:00, 131.91it/s, loss=4.66e+4, metrics={'r2': 0.9029}]\n",
      "epoch 89: 100%|██████████| 1366/1366 [00:09<00:00, 140.40it/s, loss=4.69e+4, metrics={'r2': 0.9015}]\n",
      "epoch 90: 100%|██████████| 1366/1366 [00:10<00:00, 130.82it/s, loss=4.67e+4, metrics={'r2': 0.9024}]\n",
      "epoch 91: 100%|██████████| 1366/1366 [00:10<00:00, 133.64it/s, loss=4.67e+4, metrics={'r2': 0.9022}]\n",
      "epoch 92: 100%|██████████| 1366/1366 [00:10<00:00, 135.21it/s, loss=4.67e+4, metrics={'r2': 0.9026}]\n",
      "epoch 93: 100%|██████████| 1366/1366 [00:11<00:00, 124.12it/s, loss=4.67e+4, metrics={'r2': 0.9027}]\n",
      "epoch 94: 100%|██████████| 1366/1366 [00:10<00:00, 124.66it/s, loss=4.68e+4, metrics={'r2': 0.9019}]\n",
      "epoch 95: 100%|██████████| 1366/1366 [00:10<00:00, 130.62it/s, loss=4.66e+4, metrics={'r2': 0.9029}]\n",
      "epoch 96: 100%|██████████| 1366/1366 [00:10<00:00, 128.90it/s, loss=4.67e+4, metrics={'r2': 0.9023}]\n",
      "epoch 97: 100%|██████████| 1366/1366 [00:10<00:00, 134.21it/s, loss=4.66e+4, metrics={'r2': 0.9029}]\n",
      "epoch 98: 100%|██████████| 1366/1366 [00:09<00:00, 138.76it/s, loss=4.66e+4, metrics={'r2': 0.9027}]\n",
      "epoch 99: 100%|██████████| 1366/1366 [00:10<00:00, 134.21it/s, loss=4.67e+4, metrics={'r2': 0.9025}]\n",
      "epoch 100: 100%|██████████| 1366/1366 [00:10<00:00, 135.48it/s, loss=4.65e+4, metrics={'r2': 0.9035}]\n"
     ]
    }
   ],
   "source": [
    "# YOUR CODE & RESULT HERE\n",
    "\n",
    "cat_embed_cols=[\"month\", \"town\", \"flat_model_type\", \"storey_range\"]\n",
    "continuous_cols=[\"dist_to_nearest_stn\", \"dist_to_dhoby\", \"degree_centrality\", \"eigenvector_centrality\", \"remaining_lease_years\", \"floor_area_sqm\"]\n",
    "\n",
    "\n",
    "#Use TabPreprocessor to create the deeptabular component using the continuous features and the categorical features. Use this component to transform the training dataset.\n",
    "tab_preprocessor = TabPreprocessor(\n",
    "    cat_embed_cols=cat_embed_cols,\n",
    "    continuous_cols=continuous_cols\n",
    "    #cols_to_scale=['resale_price'],  # or scale=True or cols_to_scale=continuous_cols\n",
    ")\n",
    "\n",
    "#For Training\n",
    "X_tab = tab_preprocessor.fit_transform(df_train) # x_train\n",
    "target = df_train['resale_price'].values # y_train\n",
    "\n",
    "# Create the TabMlp model with 2 linear layers in the MLP, with 200 and 100 neurons respectively.\n",
    "model = TabMlp(\n",
    "    column_idx=tab_preprocessor.column_idx,  \n",
    "    cat_embed_input=tab_preprocessor.cat_embed_input, \n",
    "    continuous_cols=continuous_cols, \n",
    "    #mlp_activation='relu', \n",
    "    #mlp_dropout=0.1,\n",
    "    mlp_hidden_dims=[200, 100] \n",
    "     \n",
    ")\n",
    "\n",
    "# Create a Trainer for the training of the created TabMlp model with the root mean squared error (RMSE) cost function. \n",
    "wide_deep_model = WideDeep(deeptabular=model) # Combine the TabMlp model with any other models you want to use\n",
    "Trainer_ = Trainer(\n",
    "    wide_deep_model, \n",
    "    objective=\"root_mean_squared_error\", \n",
    "    metrics=[R2Score], \n",
    "    num_workers=0\n",
    ")\n",
    "\n",
    "# Train the model for 100 epochs using this trainer, keeping a batch size of 64. (Note: set the num_workers parameter to 0.)\n",
    "Trainer_.fit(X_tab=X_tab, target=target, n_epochs=100, batch_size=64)\n"
   ]
  },
  {
   "cell_type": "code",
   "execution_count": null,
   "metadata": {},
   "outputs": [],
   "source": []
  },
  {
   "cell_type": "markdown",
   "metadata": {
    "id": "V46s-MdM0y5c"
   },
   "source": [
    "3.Report the test RMSE and the test R2 value that you obtained."
   ]
  },
  {
   "cell_type": "code",
   "execution_count": 5,
   "metadata": {
    "id": "KAhAgvMC07g6"
   },
   "outputs": [
    {
     "name": "stderr",
     "output_type": "stream",
     "text": [
      "predict: 100%|██████████| 1128/1128 [00:02<00:00, 379.87it/s]"
     ]
    },
    {
     "name": "stdout",
     "output_type": "stream",
     "text": [
      "RMSE :  100623.95106220947\n",
      "R2 :  0.6462460788447137\n"
     ]
    },
    {
     "name": "stderr",
     "output_type": "stream",
     "text": [
      "\n"
     ]
    }
   ],
   "source": [
    "# YOUR CODE & RESULT HERE\n",
    "import math\n",
    "from sklearn.metrics import r2_score, mean_squared_error\n",
    "\n",
    "x_test = tab_preprocessor.transform(df_test)\n",
    "y_test = df_test['resale_price'].values\n",
    "\n",
    "predictions = Trainer_.predict(X_tab=x_test,batch_size=64)\n",
    "\n",
    "print(\"RMSE : \", math.sqrt(mean_squared_error(df_test['resale_price'], predictions)))\n",
    "print(\"R2 : \", r2_score(df_test['resale_price'], predictions))"
   ]
  },
  {
   "cell_type": "code",
   "execution_count": null,
   "metadata": {},
   "outputs": [],
   "source": []
  },
  {
   "cell_type": "code",
   "execution_count": null,
   "metadata": {},
   "outputs": [],
   "source": []
  }
 ],
 "metadata": {
  "colab": {
   "provenance": []
  },
  "kernelspec": {
   "display_name": "Python 3",
   "language": "python",
   "name": "python3"
  },
  "language_info": {
   "codemirror_mode": {
    "name": "ipython",
    "version": 3
   },
   "file_extension": ".py",
   "mimetype": "text/x-python",
   "name": "python",
   "nbconvert_exporter": "python",
   "pygments_lexer": "ipython3",
   "version": "3.12.2"
  }
 },
 "nbformat": 4,
 "nbformat_minor": 4
}
